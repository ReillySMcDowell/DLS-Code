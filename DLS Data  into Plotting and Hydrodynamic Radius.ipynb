{
 "cells": [
  {
   "cell_type": "code",
   "execution_count": 1,
   "id": "36133ed0-937f-4847-b9f6-f4c2a6efd63b",
   "metadata": {},
   "outputs": [],
   "source": [
    "import numpy as np\n",
    "import matplotlib.pyplot as plt\n",
    "%matplotlib inline\n",
    "import scipy.linalg as la\n",
    "import scipy.optimize as opt\n",
    "from scipy.optimize import curve_fit\n",
    "import pandas as pd\n",
    "import xlrd\n",
    "import typing\n"
   ]
  },
  {
   "cell_type": "code",
   "execution_count": 2,
   "id": "dcb34012-b5d9-45e8-8118-6f635642cde5",
   "metadata": {},
   "outputs": [],
   "source": [
    "def correlation(t, A, B):\n",
    "    y = A*(np.exp(-2*B*t))\n",
    "    return y\n"
   ]
  },
  {
   "cell_type": "code",
   "execution_count": 3,
   "id": "077c3345-2bf4-409e-bb02-8b7e7ab91869",
   "metadata": {},
   "outputs": [],
   "source": [
    "def relaxationrate(filename, filetype):\n",
    "    \n",
    "    if filetype == 'excel':\n",
    "        data = pd.read_excel(filename)\n",
    "    if filetype == 'csv':\n",
    "        data = pd.read_csv(filename, encoding= 'unicode_escape')\n",
    "    \n",
    "    xlabel = data[data.columns[0]][0]\n",
    "    ylabel = data[data.columns[1]][0]\n",
    "    \n",
    "    Time = data[data.columns[0]][1:201]\n",
    "    Correlation = data[data.columns[1]][1:201]\n",
    "    \n",
    "    x=[]\n",
    "    y=[]\n",
    "    \n",
    "    x = np.array(list(map(float, Time)))\n",
    "    y = np.array(list(map(float, Correlation)))\n",
    "    \n",
    "    parameters, covariance = curve_fit(correlation, x, y, p0 = [0.1,0.1], bounds = (0, 0.5) )\n",
    "    \n",
    "    best_A = parameters[0]\n",
    "    best_B = parameters[1]\n",
    "    #print(\"A:\", best_A)\n",
    "    print(\"Relaxation Rate:\", best_B, \"1/microsec\")\n",
    "    \n",
    "    fit_y = correlation(x, best_A, best_B)\n",
    "    plt.plot(x, y, 'o',markersize = 2, label='data', color = 'k')\n",
    "    plt.plot(x, fit_y, '-', label='fit', color = 'r')\n",
    "    plt.xscale('log')\n",
    "    plt.xlabel(xlabel)\n",
    "    plt.ylabel(ylabel)\n",
    "    plt.title(filename)\n",
    "    plt.legend()\n",
    "    #plt.savefig(filename,format='png') #saves over original file right now and kills it making it a png, don't uncomment for now\n",
    "    \n",
    "    return best_B\n"
   ]
  },
  {
   "cell_type": "code",
   "execution_count": 4,
   "id": "ddb61347-886d-420f-9ebd-b391143c2941",
   "metadata": {},
   "outputs": [],
   "source": [
    "def scatteringvec(RefractiveIndex, Angle): \n",
    "    \n",
    "    RI = RefractiveIndex #Refractive Index of the sample\n",
    "    wavelength = 637 # Units - nm, comes from the wavelength of the laser used in the DLS\n",
    "    radian = (Angle*np.pi)/180\n",
    "    \n",
    "    q = ( 4*np.pi*(RI)*(np.sin(radian/2)) )/(wavelength) #Units 1/nm\n",
    "    \n",
    "    print(\"Scattering Vector 'q':\", q, \"1/nm\")\n",
    "    \n",
    "    return q\n"
   ]
  },
  {
   "cell_type": "code",
   "execution_count": 5,
   "id": "11749f52-6108-4e6e-a342-1726b8cb9193",
   "metadata": {},
   "outputs": [],
   "source": [
    "def diffusioncoef(filename, filetype, RefractiveIndex, Angle):\n",
    "    \n",
    "    q = scatteringvec(RefractiveIndex, Angle) #Units 1/nm\n",
    "    B =  relaxationrate(filename, filetype) #Units - 1/microsec\n",
    "    \n",
    "    D = B/(q*q) #Units - nm^2 / microsec\n",
    "    \n",
    "    print(\"Diffusion Coefficient 'D':\",D, \"nm^2 / microsec\")\n",
    "    \n",
    "    return D\n"
   ]
  },
  {
   "cell_type": "code",
   "execution_count": 6,
   "id": "54c67e23-50e0-4673-a15d-f4a507e5f2a7",
   "metadata": {},
   "outputs": [],
   "source": [
    "def hydrorad(filename, filetype, RefractiveIndex, Angle, Viscosity):\n",
    "    \n",
    "    kB = 1.380649*(1e-16) #Units - g*cm^2 / K*s^2\n",
    "    T = 298.15 #Units - Kelvin, room temperature which should be the temperature of the sample\n",
    "    D = diffusioncoef(filename, filetype, RefractiveIndex, Angle)*(1e-8) #Units - converting nm^2 / microsec to cm^2 / s\n",
    "    \n",
    "    Rh = (kB*T)/(6*np.pi*D*Viscosity)*(1e7) #Units - converting cm to nm (depends a lot on units of viscosity)\n",
    "    \n",
    "    print(\"Hydrodynamic Radius 'Rh':\", Rh, \"nm\")\n",
    "    \n",
    "    return Rh\n"
   ]
  },
  {
   "cell_type": "code",
   "execution_count": 7,
   "id": "d6aec191-8c01-4309-993b-275ff6acb84f",
   "metadata": {},
   "outputs": [
    {
     "name": "stdout",
     "output_type": "stream",
     "text": [
      "Scattering Vector 'q': 0.025062891686011907 1/nm\n",
      "Relaxation Rate: 0.13474439090995655 1/microsec\n",
      "Diffusion Coefficient 'D': 214.5103942800981 nm^2 / microsec\n",
      "Hydrodynamic Radius 'Rh': 2.0360977679189616 nm\n"
     ]
    },
    {
     "data": {
      "text/plain": [
       "2.0360977679189616"
      ]
     },
     "execution_count": 7,
     "metadata": {},
     "output_type": "execute_result"
    },
    {
     "data": {
      "image/png": "[encoded data removed]",
      "text/plain": [
       "<Figure size 432x288 with 1 Axes>"
      ]
     },
     "metadata": {
      "needs_background": "light"
     },
     "output_type": "display_data"
    }
   ],
   "source": [
    "hydrorad(\n",
    "    \n",
    "    filename = '3mg_ml 5k Mn PEO in 10ml 82.6pct Tolene 17.4pct Methanol 120 deg.csv' , \n",
    "         \n",
    "    filetype = 'csv' ,\n",
    "    #either 'excel' or 'csv'\n",
    "         \n",
    "    RefractiveIndex = 1.467 ,\n",
    "    \n",
    "    Angle = 120 ,\n",
    "    #Angle in degrees \n",
    "    \n",
    "    Viscosity = 0.005\n",
    "    #Viscosity in units g /cm*s (for all intents and purposes 100 mPa*s = 1 g /cm*s)\n",
    "         \n",
    "        )\n"
   ]
  },
  {
   "cell_type": "code",
   "execution_count": null,
   "id": "cccc60bc-2e74-43ab-aca6-c1fe2b38b692",
   "metadata": {},
   "outputs": [],
   "source": []
  }
 ],
 "metadata": {
  "kernelspec": {
   "display_name": "Python 3",
   "language": "python",
   "name": "python3"
  },
  "language_info": {
   "codemirror_mode": {
    "name": "ipython",
    "version": 3
   },
   "file_extension": ".py",
   "mimetype": "text/x-python",
   "name": "python",
   "nbconvert_exporter": "python",
   "pygments_lexer": "ipython3",
   "version": "3.8.8"
  }
 },
 "nbformat": 4,
 "nbformat_minor": 5
}
