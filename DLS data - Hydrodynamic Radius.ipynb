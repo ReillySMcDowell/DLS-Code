{
 "cells": [
  {
   "cell_type": "code",
   "execution_count": 1,
   "id": "bd779f3c-d3be-4bf0-8265-25a7bf1608ee",
   "metadata": {},
   "outputs": [],
   "source": [
    "import numpy as np\n",
    "import matplotlib.pyplot as plt\n",
    "%matplotlib inline\n",
    "import scipy.linalg as la\n",
    "import scipy.optimize as opt\n"
   ]
  },
  {
   "cell_type": "code",
   "execution_count": 23,
   "id": "5fd7c9b9-a362-4495-a0b5-7d005711bad4",
   "metadata": {},
   "outputs": [],
   "source": [
    "def refractiveindex(pctEthanol):\n",
    "    #get the refractive index using the slope from the dn/dc measurement of Ethanol-Water Mixture from 3% to 9%\n",
    "    \n",
    "    m = 0.5317 #slope from dn/dc graph\n",
    "    x = pctEthanol*(1e-3) #Volume Fraction of Ethanol in solvent (needed converted from g/ml, since that's not actually how it was measured, to actually %Ethanol)\n",
    "    b = 1.3333 #intercept which is just waters refractive index since we measured relative to that\n",
    "    y = m*x + b\n",
    "    \n",
    "    return y #I don't think refractive index has units, it's just comparing sin(angles)'s\n"
   ]
  },
  {
   "cell_type": "code",
   "execution_count": 16,
   "id": "1a5fff84-c08e-4063-ac38-d8807c76caec",
   "metadata": {},
   "outputs": [
    {
     "data": {
      "text/plain": [
       "Text(0, 0.5, 'Viscosity in mPa*s')"
      ]
     },
     "execution_count": 16,
     "metadata": {},
     "output_type": "execute_result"
    },
    {
     "data": {
      "image/png": "[encoded data removed]",
      "text/plain": [
       "<Figure size 432x288 with 1 Axes>"
      ]
     },
     "metadata": {
      "needs_background": "light"
     },
     "output_type": "display_data"
    }
   ],
   "source": [
    "#points from doing webplotdigitizer to graph from https://www.rheosense.com/applications/viscosity/two-component-mixtures\n",
    "    # X values in %Ethanol - Y values in mPa*s\n",
    "    #-0.053050397877981936 , 0.9074446680080483 \n",
    "    #1.0610079575596814    , 0.9396378269617709\n",
    "    #2.1750663129973447    , 0.9678068410462775\n",
    "    #2.9708222811671092    , 0.9959758551307849\n",
    "    #4.084880636604776     , 1.0321931589537225\n",
    "    #4.880636604774537     , 1.0684104627766602\n",
    "    \n",
    "pctEthanolDATA = np.array([\n",
    "    -0.053050397877981936 ,\n",
    "    1.0610079575596814    ,\n",
    "    2.1750663129973447    ,\n",
    "    2.9708222811671092    ,\n",
    "    4.084880636604776     ,\n",
    "    4.880636604774537     \n",
    "    ])\n",
    "\n",
    "ViscosityDATA = np.array([\n",
    "    0.9074446680080483,\n",
    "    0.9396378269617709,\n",
    "    0.9678068410462775,\n",
    "    0.9959758551307849,\n",
    "    1.0321931589537225,\n",
    "    1.0684104627766602\n",
    "])\n",
    "\n",
    "m, b = np.polyfit(pctEthanolDATA, ViscosityDATA, 1)\n",
    "\n",
    "plt.scatter(pctEthanolDATA, ViscosityDATA)\n",
    "plt.plot(pctEthanolDATA, m*(pctEthanolDATA)+b)\n",
    "\n",
    "plt.xlabel(\"Volume fraction or %Ethanol\")\n",
    "plt.ylabel(\"Viscosity in mPa*s\")\n"
   ]
  },
  {
   "cell_type": "code",
   "execution_count": 54,
   "id": "d892f8c4-2274-4277-963c-ef34c3c5ba5d",
   "metadata": {},
   "outputs": [],
   "source": [
    "def viscosity(pctEthanol):\n",
    "    #basic slope intercept from data but making it a function so it's a little more useful\n",
    "    \n",
    "    x = pctEthanol #Volume Fraction of Ethanol in solvent\n",
    "    y = m*x + b\n",
    "    \n",
    "    eta = y*(1e-2) #converting from mPa*s to g / cm*s\n",
    "    \n",
    "    return eta #Units - g / cm*s\n"
   ]
  },
  {
   "cell_type": "code",
   "execution_count": 55,
   "id": "335a1f6d-368d-45b5-9433-890fd9079668",
   "metadata": {},
   "outputs": [
    {
     "name": "stdout",
     "output_type": "stream",
     "text": [
      "3 mg/ml 5 k Mn PEO in 0% Ethanol-Water\n"
     ]
    }
   ],
   "source": [
    "SampleInfo = [\n",
    "    #Format SampleInfo[Sample][0 - Sample Name, 1 - Viscosity, 2 - Refractive index, 3 - B value from fitting y = A*exp(-2*B*x) at a given Angle][*for Angles* 0 - 60 deg, 1 - 90 deg, 2 - 120 deg]\n",
    "    \n",
    "    #[\"_ mg/ml _ k Mn PEO in ___% Ethanol-Water\", viscosity(___) ,refractiveindex(___) , [ _______ , _______ , _______ ]],\n",
    "    [\"Sample Name\", \"Viscosity\", \"Refractive Index\", [\"B @ 60 deg\", \"B @ 90 deg\", \"B @ 120 deg\"]],\n",
    "    \n",
    "    [\"3 mg/ml 5 k Mn PEO in 0% Ethanol-Water\"     , viscosity(0.0) , refractiveindex(0.0) , [ 0.00039 , 0.00121  , 0.00213 ]],\n",
    "    [\"3 mg/ml 5 k Mn PEO in 1.5% Ethanol-Water\"   , viscosity(1.5) , refractiveindex(1.5) , [ 0.35314 , 0.50000  , 0.00381 ]],#bad graphs :(\n",
    "    [\"3 mg/ml 1.4 k Mn PEO in 1.5% Ethanol-Water\" , viscosity(1.5) , refractiveindex(1.5) , [ 0.00001 , 0.01058  , 0.05202 ]],\n",
    "    [\"3 mg/ml 5 k Mn PEO in 2.5% Ethanol-Water\"   , viscosity(2.5) , refractiveindex(2.5) , [ 0.00001 , 0.00348  , 0.03019 ]],\n",
    "    [\"3 mg/ml 5 k Mn PEO in 3% Ethanol-Water\"     , viscosity(3.0) , refractiveindex(3.0) , [ 0.00118 , 0.00936  , 0.01572 ]],\n",
    "\n",
    "    [\"7 mg/ml 5 k Mn PEO in 0.5% Ethanol-Water\"   , viscosity(0.5) , refractiveindex(0.5) , [ 0.01006 , 0.02650  , 0.04304 ]],\n",
    "    [\"7 mg/ml 5 k Mn PEO in 1% Ethanol-Water\"     , viscosity(1.0) , refractiveindex(1.0) , [ 0.01413 , 0.03161  , 0.04378 ]],\n",
    "    [\"7 mg/ml 5 k Mn PEO in 1.5% Ethanol-Water\"   , viscosity(1.5) , refractiveindex(1.5) , [ 0.00980 , 0.02947  , 0.03318 ]],\n",
    "    [\"7 mg/ml 5 k Mn PEO in 2.5% Ethanol-Water\"   , viscosity(2.5) , refractiveindex(2.5) , [ 0.01023 , 0.03675  , 0.04896 ]],\n",
    "    \n",
    "    [\"13 mg/ml 1.4 k Mn PEO in 0.5% Ethanol-Water\", viscosity(0.5) , refractiveindex(0.5) , [ 0.02382 , 0.03274  , 0.05757 ]],\n",
    "    [\"13 mg/ml 1.4 k Mn PEO in 1.5% Ethanol-Water\", viscosity(1.5) , refractiveindex(1.5) , [ 0.01673 , 0.02425  , 0.05186 ]],\n",
    "    [\"13 mg/ml 1.4 k Mn PEO in 2.5% Ethanol-Water\", viscosity(2.5) , refractiveindex(2.5) , [ 0.02631 , 0.04395  , 0.06815 ]],\n",
    "    \n",
    "]\n",
    "\n",
    "print(SampleInfo[1][0])"
   ]
  },
  {
   "cell_type": "code",
   "execution_count": 56,
   "id": "99ae19fe-0640-4d99-95f9-a3edd874aeb8",
   "metadata": {},
   "outputs": [],
   "source": [
    "def scatteringvec(SampleArray, Angle): \n",
    "    #should be SampleArray = SampleInfo[Sample] and Angle = 0,1,2 corresponding to whichever angle you want\n",
    "    \n",
    "    refractiveindex = SampleArray[2] #Refractive Index of the sample\n",
    "    wavelength = 637 # Units - nm, comes from the wavelength of the laser used in the DLS\n",
    "    radianarray = [(60*np.pi)/180,(90*np.pi)/180,(120*np.pi)/180]\n",
    "    angle = radianarray[Angle] #Angle = 0,1,2 with (0 - 60 deg, 1 - 90 deg, 2 - 120 deg)\n",
    "    \n",
    "    q = ( 4*np.pi*(refractiveindex)*(np.sin(angle/2)) )/(wavelength) #Units 1/nm\n",
    "    \n",
    "    return q\n"
   ]
  },
  {
   "cell_type": "code",
   "execution_count": 57,
   "id": "ae0f43d0-d611-4dba-bca1-6c9d89eab63e",
   "metadata": {},
   "outputs": [],
   "source": [
    "def diffusioncoef(SampleArray, Angle):\n",
    "    #should be SampleArray = SampleInfo[Sample] and Angle = 0,1,2 corresponding to whichever angle you want\n",
    "    \n",
    "    q = scatteringvec(SampleArray, Angle) #Units 1/nm\n",
    "    tau = SampleArray[3][Angle] #Units - 1/microsec\n",
    "    \n",
    "    D = tau/(q*q) #Units - nm^2 / microsec\n",
    "    \n",
    "    return D\n"
   ]
  },
  {
   "cell_type": "code",
   "execution_count": 65,
   "id": "c8d9c549-0544-47cc-8422-4bb8ad02d689",
   "metadata": {},
   "outputs": [],
   "source": [
    "def hydrorad(SampleArray, Angle):\n",
    "    #should be SampleArray = SampleInfo[Sample] and Angle = 0,1,2 corresponding to whichever angle you want\n",
    "\n",
    "    kB = 1.380649*(1e-16) #Units - g*cm^2 / K*s^2\n",
    "    T = 298.15 #Units - Kelvin, room temperature which should be the temperature of the sample\n",
    "    D = diffusioncoef(SampleArray, Angle)*(1e-8) #Units - converting nm^2 / microsec to cm^2 / s\n",
    "    viscosity = SampleArray[1] #Units - g / cm*s, Viscosity of the sample\n",
    "    print()\n",
    "    \n",
    "    Rh = (kB*T)/(6*np.pi*D*viscosity)*(1e7) #Units - converting cm to nm (depends a lot on units of viscosity)\n",
    "    print(SampleArray[0])\n",
    "    \n",
    "    return Rh"
   ]
  },
  {
   "cell_type": "code",
   "execution_count": 66,
   "id": "d8903f12-a580-4174-9bd3-fd19fbba3b6c",
   "metadata": {},
   "outputs": [
    {
     "name": "stdout",
     "output_type": "stream",
     "text": [
      "\n",
      "3 mg/ml 5 k Mn PEO in 0% Ethanol-Water\n",
      "107.06720750744077 nm\n",
      " \n",
      "\n",
      "3 mg/ml 5 k Mn PEO in 0% Ethanol-Water\n",
      "69.01853045934199 nm\n",
      " \n",
      "\n",
      "3 mg/ml 5 k Mn PEO in 0% Ethanol-Water\n",
      "58.81156468718578 nm\n",
      " \n",
      "\n",
      "3 mg/ml 5 k Mn PEO in 1.5% Ethanol-Water\n",
      "0.11241455668507645 nm\n",
      " \n",
      "\n",
      "3 mg/ml 5 k Mn PEO in 1.5% Ethanol-Water\n",
      "0.1587923061910717 nm\n",
      " \n",
      "\n",
      "3 mg/ml 5 k Mn PEO in 1.5% Ethanol-Water\n",
      "31.25832799036843 nm\n",
      " \n",
      "\n",
      "3 mg/ml 1.4 k Mn PEO in 1.5% Ethanol-Water\n",
      "3969.8076547767896 nm\n",
      " \n",
      "\n",
      "3 mg/ml 1.4 k Mn PEO in 1.5% Ethanol-Water\n",
      "7.504362296364447 nm\n",
      " \n",
      "\n",
      "3 mg/ml 1.4 k Mn PEO in 1.5% Ethanol-Water\n",
      "2.28939311117462 nm\n",
      " \n",
      "\n",
      "3 mg/ml 5 k Mn PEO in 2.5% Ethanol-Water\n",
      "3843.7565981768016 nm\n",
      " \n",
      "\n",
      "3 mg/ml 5 k Mn PEO in 2.5% Ethanol-Water\n",
      "22.09055516193566 nm\n",
      " \n",
      "\n",
      "3 mg/ml 5 k Mn PEO in 2.5% Ethanol-Water\n",
      "3.8195660134251104 nm\n",
      " \n",
      "\n",
      "3 mg/ml 5 k Mn PEO in 3% Ethanol-Water\n",
      "32.06573779283939 nm\n",
      " \n",
      "\n",
      "3 mg/ml 5 k Mn PEO in 3% Ethanol-Water\n",
      "8.084950981955238 nm\n",
      " \n",
      "\n",
      "3 mg/ml 5 k Mn PEO in 3% Ethanol-Water\n",
      "7.220910418998188 nm\n",
      " \n",
      "\n",
      "7 mg/ml 5 k Mn PEO in 0.5% Ethanol-Water\n",
      "4.080148881849529 nm\n",
      " \n",
      "\n",
      "7 mg/ml 5 k Mn PEO in 0.5% Ethanol-Water\n",
      "3.0978337925589647 nm\n",
      " \n",
      "\n",
      "7 mg/ml 5 k Mn PEO in 0.5% Ethanol-Water\n",
      "2.8610337652002515 nm\n",
      " \n",
      "\n",
      "7 mg/ml 5 k Mn PEO in 1% Ethanol-Water\n",
      "2.856380821644474 nm\n",
      " \n",
      "\n",
      "7 mg/ml 5 k Mn PEO in 1% Ethanol-Water\n",
      "2.553664094263614 nm\n",
      " \n",
      "\n",
      "7 mg/ml 5 k Mn PEO in 1% Ethanol-Water\n",
      "2.765691709216749 nm\n",
      " \n",
      "\n",
      "7 mg/ml 5 k Mn PEO in 1.5% Ethanol-Water\n",
      "4.050824137527337 nm\n",
      " \n",
      "\n",
      "7 mg/ml 5 k Mn PEO in 1.5% Ethanol-Water\n",
      "2.694134818307969 nm\n",
      " \n",
      "\n",
      "7 mg/ml 5 k Mn PEO in 1.5% Ethanol-Water\n",
      "3.5893378433786527 nm\n",
      " \n",
      "\n",
      "7 mg/ml 5 k Mn PEO in 2.5% Ethanol-Water\n",
      "3.757337828129816 nm\n",
      " \n",
      "\n",
      "7 mg/ml 5 k Mn PEO in 2.5% Ethanol-Water\n",
      "2.091840325538397 nm\n",
      " \n",
      "\n",
      "7 mg/ml 5 k Mn PEO in 2.5% Ethanol-Water\n",
      "2.3552430135887277 nm\n",
      " \n",
      "\n",
      "13 mg/ml 1.4 k Mn PEO in 0.5% Ethanol-Water\n",
      "1.7231863035854849 nm\n",
      " \n",
      "\n",
      "13 mg/ml 1.4 k Mn PEO in 0.5% Ethanol-Water\n",
      "2.5074097587908546 nm\n",
      " \n",
      "\n",
      "13 mg/ml 1.4 k Mn PEO in 0.5% Ethanol-Water\n",
      "2.1389420401983466 nm\n",
      " \n",
      "\n",
      "13 mg/ml 1.4 k Mn PEO in 1.5% Ethanol-Water\n",
      "2.372867695622708 nm\n",
      " \n",
      "\n",
      "13 mg/ml 1.4 k Mn PEO in 1.5% Ethanol-Water\n",
      "3.2740681688880753 nm\n",
      " \n",
      "\n",
      "13 mg/ml 1.4 k Mn PEO in 1.5% Ethanol-Water\n",
      "2.2964564142557604 nm\n",
      " \n",
      "\n",
      "13 mg/ml 1.4 k Mn PEO in 2.5% Ethanol-Water\n",
      "1.46094891606872 nm\n",
      " \n",
      "\n",
      "13 mg/ml 1.4 k Mn PEO in 2.5% Ethanol-Water\n",
      "1.749149760262482 nm\n",
      " \n",
      "\n",
      "13 mg/ml 1.4 k Mn PEO in 2.5% Ethanol-Water\n",
      "1.6920425230418796 nm\n",
      " \n"
     ]
    }
   ],
   "source": [
    "for i in range(1, 13):\n",
    "    for j in range(3):\n",
    "        print(hydrorad(SampleInfo[i], j), \"nm\")\n",
    "        print(\" \")"
   ]
  },
  {
   "cell_type": "code",
   "execution_count": 12,
   "id": "28a54578-97d5-4a30-9c3d-efa8558ea18e",
   "metadata": {},
   "outputs": [
    {
     "name": "stdout",
     "output_type": "stream",
     "text": [
      "7\n"
     ]
    }
   ],
   "source": [
    "List = [\n",
    "    [1,2,3],\n",
    "    [4,5,6],\n",
    "    [7,8,9]\n",
    "]\n",
    "\n",
    "\n",
    "print(List[2][0])"
   ]
  },
  {
   "cell_type": "code",
   "execution_count": 13,
   "id": "fe9358d5-a611-456f-816d-ecce90b5a34a",
   "metadata": {},
   "outputs": [
    {
     "name": "stdout",
     "output_type": "stream",
     "text": [
      "1\n"
     ]
    }
   ],
   "source": [
    "A = [1,2,2,2,2,2,2]\n",
    "print(A[0])"
   ]
  },
  {
   "cell_type": "code",
   "execution_count": 14,
   "id": "5a90ac31-e3c0-43c0-8349-d2e9679353ac",
   "metadata": {},
   "outputs": [
    {
     "name": "stdout",
     "output_type": "stream",
     "text": [
      "[[[0. 0.]\n",
      "  [0. 0.]\n",
      "  [0. 0.]]\n",
      "\n",
      " [[0. 0.]\n",
      "  [0. 1.]\n",
      "  [0. 0.]]\n",
      "\n",
      " [[0. 0.]\n",
      "  [0. 0.]\n",
      "  [0. 0.]]]\n"
     ]
    }
   ],
   "source": [
    "B = np.zeros((3,3,2))\n",
    "B[1][1][1] = 1\n",
    "print(B)"
   ]
  },
  {
   "cell_type": "code",
   "execution_count": null,
   "id": "c0374e2b-c907-437a-978c-99cf76d531a4",
   "metadata": {},
   "outputs": [],
   "source": []
  }
 ],
 "metadata": {
  "kernelspec": {
   "display_name": "Python 3",
   "language": "python",
   "name": "python3"
  },
  "language_info": {
   "codemirror_mode": {
    "name": "ipython",
    "version": 3
   },
   "file_extension": ".py",
   "mimetype": "text/x-python",
   "name": "python",
   "nbconvert_exporter": "python",
   "pygments_lexer": "ipython3",
   "version": "3.8.8"
  }
 },
 "nbformat": 4,
 "nbformat_minor": 5
}
