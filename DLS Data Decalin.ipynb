{
 "cells": [
  {
   "cell_type": "code",
   "execution_count": 1,
   "id": "36133ed0-937f-4847-b9f6-f4c2a6efd63b",
   "metadata": {},
   "outputs": [],
   "source": [
    "import numpy as np\n",
    "import matplotlib.pyplot as plt\n",
    "%matplotlib inline\n",
    "import scipy.linalg as la\n",
    "import scipy.optimize as opt\n",
    "from scipy.optimize import curve_fit\n",
    "import pandas as pd\n",
    "import xlrd\n",
    "import typing\n"
   ]
  },
  {
   "cell_type": "code",
   "execution_count": 2,
   "id": "dcb34012-b5d9-45e8-8118-6f635642cde5",
   "metadata": {},
   "outputs": [],
   "source": [
    "def correlation(t, A, B):\n",
    "    y = A*(np.exp(-2*B*t))\n",
    "    return y\n"
   ]
  },
  {
   "cell_type": "code",
   "execution_count": 3,
   "id": "077c3345-2bf4-409e-bb02-8b7e7ab91869",
   "metadata": {},
   "outputs": [],
   "source": [
    "def relaxationrate(filename, filetype, Angle):\n",
    "    \n",
    "    if filetype == 'excel':\n",
    "        data = pd.read_excel(filename)\n",
    "    if filetype == 'csv':\n",
    "        data = pd.read_csv(filename, encoding= 'unicode_escape')\n",
    "    \n",
    "    xlabel = data[data.columns[0]][0]\n",
    "    ylabel = data[data.columns[1]][0]\n",
    "    \n",
    "    Time = data[data.columns[0]][1:201]\n",
    "    Correlation = data[data.columns[1]][1:201]\n",
    "    \n",
    "    x=[]\n",
    "    y=[]\n",
    "    \n",
    "    x = np.array(list(map(float, Time)))\n",
    "    y = np.array(list(map(float, Correlation)))\n",
    "    \n",
    "    parameters, covariance = curve_fit(correlation, x, y, p0 = [0.1,0.1], bounds = (0, 10) )\n",
    "    \n",
    "    best_A = parameters[0]\n",
    "    best_B = parameters[1]\n",
    "    #print(\"A:\", best_A)\n",
    "    print(\"Relaxation Rate for\",Angle,\"deg\", best_B, \"1/microsec\")\n",
    "    \n",
    "    if Angle == 60:\n",
    "        Color = 'r'\n",
    "        Figure = 2\n",
    "    if Angle == 90:\n",
    "        Color = 'b'\n",
    "        Figure = 3\n",
    "    if Angle == 120:\n",
    "        Color = 'g'\n",
    "        Figure = 4\n",
    "    \n",
    "    fit_y = correlation(x, best_A, best_B)\n",
    "    plt.figure(Figure)\n",
    "    plt.plot(x, y, 'o',markersize = 2, color = 'k')\n",
    "    plt.plot(x, fit_y, '-', label = Angle, color = Color)\n",
    "    plt.xscale('log')\n",
    "    plt.xlabel(xlabel)\n",
    "    plt.ylabel(ylabel)\n",
    "    plt.title(filename)\n",
    "    plt.legend()\n",
    "    #plt.savefig(filename,format='png') #saves over original file right now and kills it making it a png, don't uncomment for now\n",
    "    \n",
    "    return best_B\n"
   ]
  },
  {
   "cell_type": "code",
   "execution_count": 4,
   "id": "ddb61347-886d-420f-9ebd-b391143c2941",
   "metadata": {},
   "outputs": [],
   "source": [
    "def scatteringvec(RefractiveIndex, Angle): \n",
    "    \n",
    "    RI = RefractiveIndex #Refractive Index of the sample\n",
    "    wavelength = 637 # Units - nm, comes from the wavelength of the laser used in the DLS\n",
    "    radian = (Angle*np.pi)/180\n",
    "    \n",
    "    q = ( 4*np.pi*(RI)*(np.sin(radian/2)) )/(wavelength) #Units 1/nm\n",
    "    \n",
    "    print(\"Scattering Vector 'q' for\",Angle, \"deg:\", q, \"1/nm\")\n",
    "    \n",
    "    return q\n"
   ]
  },
  {
   "cell_type": "code",
   "execution_count": 5,
   "id": "11749f52-6108-4e6e-a342-1726b8cb9193",
   "metadata": {},
   "outputs": [],
   "source": [
    "def diffusioncoef(nintydeg_filename, filetype, RefractiveIndex):\n",
    "    \n",
    "    q2 = scatteringvec(RefractiveIndex, 90)**2 #Units 1/nm\n",
    "\n",
    "    B = relaxationrate(nintydeg_filename, filetype, 90) #Units - 1/microsec\n",
    "    \n",
    "    D = B/q2\n",
    "    \n",
    "    print(\" \")\n",
    "    print(\"Diffusion Coefficient 'D':\",D, \"nm^2 / microsec\")\n",
    "    \n",
    "    return D\n"
   ]
  },
  {
   "cell_type": "code",
   "execution_count": 6,
   "id": "54c67e23-50e0-4673-a15d-f4a507e5f2a7",
   "metadata": {},
   "outputs": [],
   "source": [
    "def hydrorad(nintydeg_filename, filetype, RefractiveIndex, Viscosity):\n",
    "    \n",
    "    kB = 1.380649*(1e-16) #Units - g*cm^2 / K*s^2\n",
    "    T = 298.15 #Units - Kelvin, room temperature which should be the temperature of the sample\n",
    "    D = diffusioncoef(nintydeg_filename, filetype, RefractiveIndex)*(1e-8) #Units - converting nm^2 / microsec to cm^2 / s\n",
    "    \n",
    "    Rh = (kB*T)/(6*np.pi*D*Viscosity)*(1e7) #Units - converting cm to nm (depends a lot on units of viscosity)\n",
    "    \n",
    "    print(\"Hydrodynamic Radius 'Rh':\", Rh, \"nm\")\n",
    "    \n",
    "    return Rh\n"
   ]
  },
  {
   "cell_type": "code",
   "execution_count": 17,
   "id": "d6aec191-8c01-4309-993b-275ff6acb84f",
   "metadata": {},
   "outputs": [
    {
     "name": "stdout",
     "output_type": "stream",
     "text": [
      "Scattering Vector 'q' for 90 deg: 0.020659056927511903 1/nm\n",
      "Relaxation Rate for 90 deg 1.0764667339721004 1/microsec\n",
      " \n",
      "Diffusion Coefficient 'D': 2522.200622969014 nm^2 / microsec\n",
      "Hydrodynamic Radius 'Rh': 0.021645985008668055 nm\n"
     ]
    },
    {
     "data": {
      "text/plain": [
       "0.021645985008668055"
      ]
     },
     "execution_count": 17,
     "metadata": {},
     "output_type": "execute_result"
    },
    {
     "data": {
      "image/png": "[encoded data removed]",
      "text/plain": [
       "<Figure size 432x288 with 1 Axes>"
      ]
     },
     "metadata": {
      "needs_background": "light"
     },
     "output_type": "display_data"
    }
   ],
   "source": [
    "hydrorad(\n",
    "    \n",
    "    nintydeg_filename = 'Pure Decalin at 90 degrees shutter 400 initial delay 2 us.csv' ,\n",
    "         \n",
    "    filetype = 'csv' ,\n",
    "    #either 'excel' or 'csv'\n",
    "         \n",
    "    RefractiveIndex = 1.481 ,\n",
    "    \n",
    "    Viscosity = 0.04\n",
    "    #Viscosity in units g /cm*s (for all intents and purposes 100 mPa*s = 1 g /cm*s)\n",
    "         \n",
    "        )\n"
   ]
  },
  {
   "cell_type": "code",
   "execution_count": 18,
   "id": "d08cf581-3c9c-47f9-a2ac-11d992da5891",
   "metadata": {},
   "outputs": [
    {
     "name": "stdout",
     "output_type": "stream",
     "text": [
      "Scattering Vector 'q' for 90 deg: 0.020659056927511903 1/nm\n",
      "Relaxation Rate for 90 deg 1.0764667339721004 1/microsec\n",
      " \n",
      "Diffusion Coefficient 'D': 2522.200622969014 nm^2 / microsec\n",
      "Hydrodynamic Radius 'Rh': 0.021645985008668055 nm\n"
     ]
    },
    {
     "data": {
      "text/plain": [
       "0.021645985008668055"
      ]
     },
     "execution_count": 18,
     "metadata": {},
     "output_type": "execute_result"
    },
    {
     "data": {
      "image/png": "[encoded data removed]",
      "text/plain": [
       "<Figure size 432x288 with 1 Axes>"
      ]
     },
     "metadata": {
      "needs_background": "light"
     },
     "output_type": "display_data"
    }
   ],
   "source": [
    "hydrorad(\n",
    "    \n",
    "    nintydeg_filename = 'Pure Decalin at 90 degrees shutter 400 initial delay 10 us.csv' ,\n",
    "         \n",
    "    filetype = 'csv' ,\n",
    "    #either 'excel' or 'csv'\n",
    "         \n",
    "    RefractiveIndex = 1.481 ,\n",
    "    \n",
    "    Viscosity = 0.04\n",
    "    #Viscosity in units g /cm*s (for all intents and purposes 100 mPa*s = 1 g /cm*s)\n",
    "         \n",
    "        )\n"
   ]
  },
  {
   "cell_type": "code",
   "execution_count": 19,
   "id": "75e8c1e0-e091-41d8-a941-637a709e1719",
   "metadata": {},
   "outputs": [
    {
     "name": "stdout",
     "output_type": "stream",
     "text": [
      "Scattering Vector 'q' for 90 deg: 0.020659056927511903 1/nm\n",
      "Relaxation Rate for 90 deg 1.0764667339721004 1/microsec\n",
      " \n",
      "Diffusion Coefficient 'D': 2522.200622969014 nm^2 / microsec\n",
      "Hydrodynamic Radius 'Rh': 0.021645985008668055 nm\n"
     ]
    },
    {
     "data": {
      "text/plain": [
       "0.021645985008668055"
      ]
     },
     "execution_count": 19,
     "metadata": {},
     "output_type": "execute_result"
    },
    {
     "data": {
      "image/png": "[encoded data removed]",
      "text/plain": [
       "<Figure size 432x288 with 1 Axes>"
      ]
     },
     "metadata": {
      "needs_background": "light"
     },
     "output_type": "display_data"
    }
   ],
   "source": [
    "hydrorad(\n",
    "    \n",
    "    nintydeg_filename = 'Pure Decalin at 90 degrees shutter 400 initial delay 2 us.csv' ,\n",
    "         \n",
    "    filetype = 'csv' ,\n",
    "    #either 'excel' or 'csv'\n",
    "         \n",
    "    RefractiveIndex = 1.481 ,\n",
    "    \n",
    "    Viscosity = 0.04\n",
    "    #Viscosity in units g /cm*s (for all intents and purposes 100 mPa*s = 1 g /cm*s)\n",
    "         \n",
    "        )\n"
   ]
  },
  {
   "cell_type": "code",
   "execution_count": 20,
   "id": "25c6be2a-7490-46de-940c-ecea6f6c31f3",
   "metadata": {},
   "outputs": [
    {
     "name": "stdout",
     "output_type": "stream",
     "text": [
      "Scattering Vector 'q' for 90 deg: 0.020659056927511903 1/nm\n",
      "Relaxation Rate for 90 deg 1.0764667339721004 1/microsec\n",
      " \n",
      "Diffusion Coefficient 'D': 2522.200622969014 nm^2 / microsec\n",
      "Hydrodynamic Radius 'Rh': 0.021645985008668055 nm\n"
     ]
    },
    {
     "data": {
      "text/plain": [
       "0.021645985008668055"
      ]
     },
     "execution_count": 20,
     "metadata": {},
     "output_type": "execute_result"
    },
    {
     "data": {
      "image/png": "[encoded data removed]",
      "text/plain": [
       "<Figure size 432x288 with 1 Axes>"
      ]
     },
     "metadata": {
      "needs_background": "light"
     },
     "output_type": "display_data"
    }
   ],
   "source": [
    "hydrorad(\n",
    "    \n",
    "    nintydeg_filename = 'Pure Decalin at 90 degrees shutter 400 initial delay 2 us.csv' ,\n",
    "         \n",
    "    filetype = 'csv' ,\n",
    "    #either 'excel' or 'csv'\n",
    "         \n",
    "    RefractiveIndex = 1.481 ,\n",
    "    \n",
    "    Viscosity = 0.04\n",
    "    #Viscosity in units g /cm*s (for all intents and purposes 100 mPa*s = 1 g /cm*s)\n",
    "         \n",
    "        )\n"
   ]
  },
  {
   "cell_type": "code",
   "execution_count": null,
   "id": "8f04ab4e-963f-474a-8bf1-4247b3a9cb7f",
   "metadata": {},
   "outputs": [],
   "source": []
  }
 ],
 "metadata": {
  "kernelspec": {
   "display_name": "Python 3",
   "language": "python",
   "name": "python3"
  },
  "language_info": {
   "codemirror_mode": {
    "name": "ipython",
    "version": 3
   },
   "file_extension": ".py",
   "mimetype": "text/x-python",
   "name": "python",
   "nbconvert_exporter": "python",
   "pygments_lexer": "ipython3",
   "version": "3.8.8"
  }
 },
 "nbformat": 4,
 "nbformat_minor": 5
}
