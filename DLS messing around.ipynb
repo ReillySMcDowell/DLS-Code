{
 "cells": [
  {
   "cell_type": "code",
   "execution_count": 19,
   "id": "36133ed0-937f-4847-b9f6-f4c2a6efd63b",
   "metadata": {},
   "outputs": [],
   "source": [
    "import numpy as np\n",
    "import matplotlib.pyplot as plt\n",
    "%matplotlib inline\n",
    "import scipy.linalg as la\n",
    "import scipy.optimize as opt\n",
    "from scipy.optimize import curve_fit\n",
    "import pandas as pd\n",
    "import xlrd\n",
    "import typing\n"
   ]
  },
  {
   "cell_type": "code",
   "execution_count": 63,
   "id": "54c67e23-50e0-4673-a15d-f4a507e5f2a7",
   "metadata": {},
   "outputs": [],
   "source": [
    "def DiffusionCoef(HydroRadius, Viscosity):\n",
    "    \n",
    "    kB = (1.380649*(1e-16))*(1e2) #Units - g*cm^2 / K*s^2 converted to g*nm^2 / K*microsec^2\n",
    "    T = 298.15 #Units - Kelvin, room temperature which should be the temperature of the sample\n",
    "    Rh = HydroRadius #Units - nm \n",
    "    \n",
    "    D = (kB*T)/(6*np.pi*Rh*Viscosity)*(1e13) #Units - converting nm*cm*s / microsec^2 to nm^2 / microsec \n",
    "    \n",
    "    print(\" \")\n",
    "    print(\"Diffusion Coefficient D:\", D, \"nm^2 / microsec\")\n",
    "    \n",
    "    return D\n"
   ]
  },
  {
   "cell_type": "code",
   "execution_count": 64,
   "id": "ddb61347-886d-420f-9ebd-b391143c2941",
   "metadata": {},
   "outputs": [],
   "source": [
    "def scatteringvec(RefractiveIndex, Angle): \n",
    "    \n",
    "    RI = RefractiveIndex #Refractive Index of the sample\n",
    "    wavelength = 637 # Units - nm, comes from the wavelength of the laser used in the DLS\n",
    "    radian = (Angle*np.pi)/180\n",
    "    \n",
    "    q = ( 4*np.pi*(RI)*(np.sin(radian/2)) )/(wavelength) #Units 1/nm\n",
    "    \n",
    "    print(\"Scattering Vector 'q' for\",Angle, \"deg:\", q, \"1/nm\")\n",
    "    \n",
    "    return q\n"
   ]
  },
  {
   "cell_type": "code",
   "execution_count": 65,
   "id": "dcb34012-b5d9-45e8-8118-6f635642cde5",
   "metadata": {},
   "outputs": [],
   "source": [
    "def correlation(t, A, B):\n",
    "    y = A*(np.exp(-2*B*t))\n",
    "    return y\n"
   ]
  },
  {
   "cell_type": "code",
   "execution_count": 66,
   "id": "11749f52-6108-4e6e-a342-1726b8cb9193",
   "metadata": {},
   "outputs": [],
   "source": [
    "def RelaxationRate(RefractiveIndex, HydroRadius, Viscosity):\n",
    "    \n",
    "    q2 = np.zeros(3)\n",
    "    q2[0] = scatteringvec(RefractiveIndex, 60)**2 #Units 1/nm\n",
    "    q2[1] = scatteringvec(RefractiveIndex, 90)**2 #Units 1/nm\n",
    "    q2[2] = scatteringvec(RefractiveIndex, 120)**2 #Units 1/nm\n",
    "    \n",
    "    D = DiffusionCoef(HydroRadius = HydroRadius , Viscosity = Viscosity )\n",
    "    \n",
    "    B = D*q2\n",
    "    \n",
    "    print(\" \")\n",
    "    print(\"Inverse Relaxation Rate 60 deg:\",1/B[0], \"microsec\")\n",
    "    print(\"Inverse Relaxation Rate 90 deg:\",1/B[1], \"microsec\")\n",
    "    print(\"Inverse Relaxation Rate 120 deg:\",1/B[2], \"microsec\")\n",
    "    \n",
    "    x = np.linspace(1, 100000, 100000)\n",
    "    \n",
    "    fit_60 = correlation(x, 1, B[0])\n",
    "    fit_90 = correlation(x, 1, B[1])\n",
    "    fit_120 = correlation(x, 1, B[2])\n",
    "    plt.figure(1)\n",
    "    plt.plot(x, fit_60, '-', label = 60, color = 'r')\n",
    "    plt.plot(x, fit_90, '-', label = 90, color = 'b')\n",
    "    plt.plot(x, fit_120, '-', label = 120, color = 'g')\n",
    "    plt.xscale('log')\n",
    "    plt.xlabel(\"t(microsec)\")\n",
    "    plt.ylabel(\"C(t)\")\n",
    "    plt.title(\"Correlation 60\")\n",
    "    plt.legend()\n",
    "    \n",
    "    return B\n"
   ]
  },
  {
   "cell_type": "code",
   "execution_count": 69,
   "id": "dad22995-9714-4173-9fde-9140496086b5",
   "metadata": {},
   "outputs": [
    {
     "name": "stdout",
     "output_type": "stream",
     "text": [
      "Scattering Vector 'q' for 60 deg: 0.013148329693046133 1/nm\n",
      "Scattering Vector 'q' for 90 deg: 0.018594546174458722 1/nm\n",
      "Scattering Vector 'q' for 120 deg: 0.022773575063022404 1/nm\n",
      " \n",
      "Diffusion Coefficient D: 37.177743870371486 nm^2 / microsec\n",
      " \n",
      "Inverse Relaxation Rate 60 deg: 155.5878924580688 microsec\n",
      "Inverse Relaxation Rate 90 deg: 77.79394622903435 microsec\n",
      "Inverse Relaxation Rate 120 deg: 51.86263081935627 microsec\n"
     ]
    },
    {
     "data": {
      "text/plain": [
       "array([0.00642724, 0.01285447, 0.01928171])"
      ]
     },
     "execution_count": 69,
     "metadata": {},
     "output_type": "execute_result"
    },
    {
     "data": {
      "image/png": "[encoded data removed]",
      "text/plain": [
       "<Figure size 432x288 with 1 Axes>"
      ]
     },
     "metadata": {
      "needs_background": "light"
     },
     "output_type": "display_data"
    }
   ],
   "source": [
    "RelaxationRate(\n",
    "    \n",
    "    RefractiveIndex = 1.333, \n",
    "\n",
    "    HydroRadius = 6.6,\n",
    "    #Units - nm\n",
    "    \n",
    "    Viscosity = 0.0089,\n",
    "    #Viscosity in units g /cm*s (for all intents and purposes 100 mPa*s = 1 g /cm*s)\n",
    "    \n",
    ")"
   ]
  },
  {
   "cell_type": "code",
   "execution_count": null,
   "id": "d08cf581-3c9c-47f9-a2ac-11d992da5891",
   "metadata": {},
   "outputs": [],
   "source": []
  }
 ],
 "metadata": {
  "kernelspec": {
   "display_name": "Python 3",
   "language": "python",
   "name": "python3"
  },
  "language_info": {
   "codemirror_mode": {
    "name": "ipython",
    "version": 3
   },
   "file_extension": ".py",
   "mimetype": "text/x-python",
   "name": "python",
   "nbconvert_exporter": "python",
   "pygments_lexer": "ipython3",
   "version": "3.8.8"
  }
 },
 "nbformat": 4,
 "nbformat_minor": 5
}
